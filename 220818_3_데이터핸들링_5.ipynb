{
 "cells": [
  {
   "cell_type": "code",
   "execution_count": 2,
   "id": "3964a12b",
   "metadata": {},
   "outputs": [],
   "source": [
    "# 날짜 데이터 핸들링(중요) -> 시계열, ARIMA\n",
    "# datetime 모듈 : 날짜/시간\n",
    "# 크게 2종류\n",
    "# 시리즈 : 날짜 -> 문자열, 문자열 -> 날짜\n",
    "# 데이터 : 날짜 -> 문자열, 문자열 -> 날짜\n",
    "# ~S까지 알아둘 것"
   ]
  },
  {
   "cell_type": "code",
   "execution_count": 4,
   "id": "7c767601",
   "metadata": {},
   "outputs": [],
   "source": [
    "from datetime import datetime\n",
    "from datetime import timedelta"
   ]
  },
  {
   "cell_type": "code",
   "execution_count": 13,
   "id": "cfb632ed",
   "metadata": {},
   "outputs": [
    {
     "data": {
      "text/plain": [
       "datetime.datetime"
      ]
     },
     "execution_count": 13,
     "metadata": {},
     "output_type": "execute_result"
    }
   ],
   "source": [
    "type(datetime.today())"
   ]
  },
  {
   "cell_type": "code",
   "execution_count": 16,
   "id": "d3505cd4",
   "metadata": {},
   "outputs": [
    {
     "name": "stdout",
     "output_type": "stream",
     "text": [
      "today :  2022- dwd 18 -dwd 18\n",
      "today 변수 type :  <class 'str'> \n",
      "\n",
      "todaytime :  2022-08-18 14:36:08\n",
      "todaytime 변수 type :  <class 'str'>\n"
     ]
    }
   ],
   "source": [
    "# 일반적 데이터 : 날짜 -> 문자열\n",
    "today = datetime.today().strftime('%Y- dwd %d -dwd %d')\n",
    "print('today : ', today)\n",
    "print('today 변수 type : ', type(today), '\\n')\n",
    "\n",
    "todaytime = datetime.today().strftime('%Y-%m-%d %H:%M:%S')\n",
    "print('todaytime : ', todaytime)\n",
    "print('todaytime 변수 type : ', type(todaytime))"
   ]
  },
  {
   "cell_type": "code",
   "execution_count": 18,
   "id": "43acb26a",
   "metadata": {},
   "outputs": [],
   "source": [
    "todaytime = todaytime.split(\" \")[0]"
   ]
  },
  {
   "cell_type": "code",
   "execution_count": 19,
   "id": "d8c23118",
   "metadata": {},
   "outputs": [
    {
     "data": {
      "text/plain": [
       "datetime.datetime(2022, 8, 18, 0, 0)"
      ]
     },
     "execution_count": 19,
     "metadata": {},
     "output_type": "execute_result"
    }
   ],
   "source": [
    "# 문자열 -> 날짜\n",
    "datetime.strptime(todaytime, '%Y-%m-%d')"
   ]
  },
  {
   "cell_type": "code",
   "execution_count": 21,
   "id": "e1ba2ab3",
   "metadata": {},
   "outputs": [
    {
     "name": "stdout",
     "output_type": "stream",
     "text": [
      "년 :  2022 & 2022\n",
      "월 :  08 & 8\n",
      "일 :  18 & 18\n",
      "시간 :  14 & 14\n",
      "요일 :  Thursday & 3\n"
     ]
    }
   ],
   "source": [
    "# 현재시간을 time 변수에 대입\n",
    "# 현재 시간의 년/월/일/시간/요일\n",
    "\n",
    "time = datetime.today()\n",
    "\n",
    "print(\"년 : \", time.strftime('%Y'), '&', time.year)\n",
    "print(\"월 : \", time.strftime('%m'), '&', time.month)\n",
    "print(\"일 : \", time.strftime('%d'), '&', time.day)\n",
    "print(\"시간 : \", time.strftime('%H'), '&', time.hour)\n",
    "print(\"요일 : \", time.strftime('%A'), '&', time.weekday()) # 0(월)~6(일)"
   ]
  },
  {
   "cell_type": "code",
   "execution_count": 22,
   "id": "c906137c",
   "metadata": {},
   "outputs": [],
   "source": [
    "# 날짜 데이터 연산 \n",
    "# datetime.timedelta(days=0, seconds=0, microseconds=0, milliseconds=0, minutes=0, hours=0, weeks=0)\n",
    "# 두 날짜와 시간 사이의 차이를 계산할 때 사용함"
   ]
  },
  {
   "cell_type": "code",
   "execution_count": 24,
   "id": "0aeea583",
   "metadata": {},
   "outputs": [
    {
     "data": {
      "text/plain": [
       "datetime.timedelta(days=100)"
      ]
     },
     "execution_count": 24,
     "metadata": {},
     "output_type": "execute_result"
    }
   ],
   "source": [
    "# 현재 날짜로부터 100일 후의 날짜?\n",
    "timedelta(days=100)"
   ]
  },
  {
   "cell_type": "code",
   "execution_count": 26,
   "id": "e83578eb",
   "metadata": {},
   "outputs": [
    {
     "name": "stdout",
     "output_type": "stream",
     "text": [
      "2022-11-26 14:59:54.548429\n",
      "2022-05-10 14:59:54\n"
     ]
    }
   ],
   "source": [
    "from datetime import timedelta\n",
    "\n",
    "time = datetime.today()\n",
    "print((time + timedelta(days=100))) # 날짜형\n",
    "print((time - timedelta(days=100)).strftime('%Y-%m-%d %H:%M:%S'))"
   ]
  },
  {
   "cell_type": "code",
   "execution_count": 27,
   "id": "c7eb632b",
   "metadata": {},
   "outputs": [],
   "source": [
    "# 데이터프레임 날짜 데이터 핸들링\n",
    "# 문자열 -> 날짜 데이터로 변환\n",
    "# pd.to_datetime(df['컬럼명'], format ='%Y%m%d')"
   ]
  },
  {
   "cell_type": "code",
   "execution_count": 105,
   "id": "2b4523cf",
   "metadata": {},
   "outputs": [],
   "source": [
    "import pandas as pd\n",
    "df = pd.read_csv('data/구매내역.csv')"
   ]
  },
  {
   "cell_type": "code",
   "execution_count": 106,
   "id": "718777c8",
   "metadata": {
    "scrolled": true
   },
   "outputs": [
    {
     "data": {
      "text/html": [
       "<div>\n",
       "<style scoped>\n",
       "    .dataframe tbody tr th:only-of-type {\n",
       "        vertical-align: middle;\n",
       "    }\n",
       "\n",
       "    .dataframe tbody tr th {\n",
       "        vertical-align: top;\n",
       "    }\n",
       "\n",
       "    .dataframe thead th {\n",
       "        text-align: right;\n",
       "    }\n",
       "</style>\n",
       "<table border=\"1\" class=\"dataframe\">\n",
       "  <thead>\n",
       "    <tr style=\"text-align: right;\">\n",
       "      <th></th>\n",
       "      <th>datetime</th>\n",
       "      <th>purchase</th>\n",
       "    </tr>\n",
       "  </thead>\n",
       "  <tbody>\n",
       "    <tr>\n",
       "      <th>0</th>\n",
       "      <td>20140627</td>\n",
       "      <td>30000</td>\n",
       "    </tr>\n",
       "    <tr>\n",
       "      <th>1</th>\n",
       "      <td>20140711</td>\n",
       "      <td>15000</td>\n",
       "    </tr>\n",
       "    <tr>\n",
       "      <th>2</th>\n",
       "      <td>20140707</td>\n",
       "      <td>20000</td>\n",
       "    </tr>\n",
       "    <tr>\n",
       "      <th>3</th>\n",
       "      <td>20140711</td>\n",
       "      <td>25000</td>\n",
       "    </tr>\n",
       "    <tr>\n",
       "      <th>4</th>\n",
       "      <td>20150120</td>\n",
       "      <td>30000</td>\n",
       "    </tr>\n",
       "    <tr>\n",
       "      <th>5</th>\n",
       "      <td>20140707</td>\n",
       "      <td>60000</td>\n",
       "    </tr>\n",
       "    <tr>\n",
       "      <th>6</th>\n",
       "      <td>20140708</td>\n",
       "      <td>150000</td>\n",
       "    </tr>\n",
       "    <tr>\n",
       "      <th>7</th>\n",
       "      <td>20160623</td>\n",
       "      <td>20000</td>\n",
       "    </tr>\n",
       "    <tr>\n",
       "      <th>8</th>\n",
       "      <td>20170515</td>\n",
       "      <td>265000</td>\n",
       "    </tr>\n",
       "    <tr>\n",
       "      <th>9</th>\n",
       "      <td>20140710</td>\n",
       "      <td>26800</td>\n",
       "    </tr>\n",
       "    <tr>\n",
       "      <th>10</th>\n",
       "      <td>20140704</td>\n",
       "      <td>1800</td>\n",
       "    </tr>\n",
       "    <tr>\n",
       "      <th>11</th>\n",
       "      <td>20140708</td>\n",
       "      <td>18600</td>\n",
       "    </tr>\n",
       "    <tr>\n",
       "      <th>12</th>\n",
       "      <td>20140709</td>\n",
       "      <td>15000</td>\n",
       "    </tr>\n",
       "    <tr>\n",
       "      <th>13</th>\n",
       "      <td>20140710</td>\n",
       "      <td>26050</td>\n",
       "    </tr>\n",
       "  </tbody>\n",
       "</table>\n",
       "</div>"
      ],
      "text/plain": [
       "    datetime  purchase\n",
       "0   20140627     30000\n",
       "1   20140711     15000\n",
       "2   20140707     20000\n",
       "3   20140711     25000\n",
       "4   20150120     30000\n",
       "5   20140707     60000\n",
       "6   20140708    150000\n",
       "7   20160623     20000\n",
       "8   20170515    265000\n",
       "9   20140710     26800\n",
       "10  20140704      1800\n",
       "11  20140708     18600\n",
       "12  20140709     15000\n",
       "13  20140710     26050"
      ]
     },
     "execution_count": 106,
     "metadata": {},
     "output_type": "execute_result"
    }
   ],
   "source": [
    "df"
   ]
  },
  {
   "cell_type": "code",
   "execution_count": 107,
   "id": "155b40b6",
   "metadata": {},
   "outputs": [],
   "source": [
    "dfs = df"
   ]
  },
  {
   "cell_type": "code",
   "execution_count": 108,
   "id": "8231ea0e",
   "metadata": {},
   "outputs": [
    {
     "name": "stdout",
     "output_type": "stream",
     "text": [
      "<class 'pandas.core.frame.DataFrame'>\n",
      "RangeIndex: 14 entries, 0 to 13\n",
      "Data columns (total 2 columns):\n",
      " #   Column    Non-Null Count  Dtype\n",
      "---  ------    --------------  -----\n",
      " 0   datetime  14 non-null     int64\n",
      " 1   purchase  14 non-null     int64\n",
      "dtypes: int64(2)\n",
      "memory usage: 352.0 bytes\n"
     ]
    }
   ],
   "source": [
    "dfs.info()"
   ]
  },
  {
   "cell_type": "code",
   "execution_count": 109,
   "id": "596951aa",
   "metadata": {},
   "outputs": [],
   "source": [
    "# int -> str로 변환\n",
    "dfs['datetime'] = dfs['datetime'].astype(str)"
   ]
  },
  {
   "cell_type": "code",
   "execution_count": 110,
   "id": "077be63e",
   "metadata": {},
   "outputs": [
    {
     "name": "stdout",
     "output_type": "stream",
     "text": [
      "<class 'pandas.core.frame.DataFrame'>\n",
      "RangeIndex: 14 entries, 0 to 13\n",
      "Data columns (total 2 columns):\n",
      " #   Column    Non-Null Count  Dtype \n",
      "---  ------    --------------  ----- \n",
      " 0   datetime  14 non-null     object\n",
      " 1   purchase  14 non-null     int64 \n",
      "dtypes: int64(1), object(1)\n",
      "memory usage: 352.0+ bytes\n"
     ]
    }
   ],
   "source": [
    "dfs.info()"
   ]
  },
  {
   "cell_type": "code",
   "execution_count": 111,
   "id": "52312028",
   "metadata": {},
   "outputs": [],
   "source": [
    "dfs['datetime'] = pd.to_datetime(dfs['datetime'], format = '%Y%m%d')"
   ]
  },
  {
   "cell_type": "code",
   "execution_count": 112,
   "id": "d0e476de",
   "metadata": {},
   "outputs": [
    {
     "name": "stdout",
     "output_type": "stream",
     "text": [
      "<class 'pandas.core.frame.DataFrame'>\n",
      "RangeIndex: 14 entries, 0 to 13\n",
      "Data columns (total 2 columns):\n",
      " #   Column    Non-Null Count  Dtype         \n",
      "---  ------    --------------  -----         \n",
      " 0   datetime  14 non-null     datetime64[ns]\n",
      " 1   purchase  14 non-null     int64         \n",
      "dtypes: datetime64[ns](1), int64(1)\n",
      "memory usage: 352.0 bytes\n"
     ]
    }
   ],
   "source": [
    "dfs.info()"
   ]
  },
  {
   "cell_type": "code",
   "execution_count": 113,
   "id": "d3bc36f2",
   "metadata": {},
   "outputs": [
    {
     "data": {
      "text/html": [
       "<div>\n",
       "<style scoped>\n",
       "    .dataframe tbody tr th:only-of-type {\n",
       "        vertical-align: middle;\n",
       "    }\n",
       "\n",
       "    .dataframe tbody tr th {\n",
       "        vertical-align: top;\n",
       "    }\n",
       "\n",
       "    .dataframe thead th {\n",
       "        text-align: right;\n",
       "    }\n",
       "</style>\n",
       "<table border=\"1\" class=\"dataframe\">\n",
       "  <thead>\n",
       "    <tr style=\"text-align: right;\">\n",
       "      <th></th>\n",
       "      <th>datetime</th>\n",
       "      <th>purchase</th>\n",
       "    </tr>\n",
       "  </thead>\n",
       "  <tbody>\n",
       "    <tr>\n",
       "      <th>0</th>\n",
       "      <td>2014-06-27</td>\n",
       "      <td>30000</td>\n",
       "    </tr>\n",
       "    <tr>\n",
       "      <th>1</th>\n",
       "      <td>2014-07-11</td>\n",
       "      <td>15000</td>\n",
       "    </tr>\n",
       "    <tr>\n",
       "      <th>2</th>\n",
       "      <td>2014-07-07</td>\n",
       "      <td>20000</td>\n",
       "    </tr>\n",
       "    <tr>\n",
       "      <th>3</th>\n",
       "      <td>2014-07-11</td>\n",
       "      <td>25000</td>\n",
       "    </tr>\n",
       "    <tr>\n",
       "      <th>5</th>\n",
       "      <td>2014-07-07</td>\n",
       "      <td>60000</td>\n",
       "    </tr>\n",
       "    <tr>\n",
       "      <th>6</th>\n",
       "      <td>2014-07-08</td>\n",
       "      <td>150000</td>\n",
       "    </tr>\n",
       "    <tr>\n",
       "      <th>7</th>\n",
       "      <td>2016-06-23</td>\n",
       "      <td>20000</td>\n",
       "    </tr>\n",
       "    <tr>\n",
       "      <th>9</th>\n",
       "      <td>2014-07-10</td>\n",
       "      <td>26800</td>\n",
       "    </tr>\n",
       "    <tr>\n",
       "      <th>10</th>\n",
       "      <td>2014-07-04</td>\n",
       "      <td>1800</td>\n",
       "    </tr>\n",
       "    <tr>\n",
       "      <th>11</th>\n",
       "      <td>2014-07-08</td>\n",
       "      <td>18600</td>\n",
       "    </tr>\n",
       "    <tr>\n",
       "      <th>12</th>\n",
       "      <td>2014-07-09</td>\n",
       "      <td>15000</td>\n",
       "    </tr>\n",
       "    <tr>\n",
       "      <th>13</th>\n",
       "      <td>2014-07-10</td>\n",
       "      <td>26050</td>\n",
       "    </tr>\n",
       "  </tbody>\n",
       "</table>\n",
       "</div>"
      ],
      "text/plain": [
       "     datetime  purchase\n",
       "0  2014-06-27     30000\n",
       "1  2014-07-11     15000\n",
       "2  2014-07-07     20000\n",
       "3  2014-07-11     25000\n",
       "5  2014-07-07     60000\n",
       "6  2014-07-08    150000\n",
       "7  2016-06-23     20000\n",
       "9  2014-07-10     26800\n",
       "10 2014-07-04      1800\n",
       "11 2014-07-08     18600\n",
       "12 2014-07-09     15000\n",
       "13 2014-07-10     26050"
      ]
     },
     "execution_count": 113,
     "metadata": {},
     "output_type": "execute_result"
    }
   ],
   "source": [
    "# 6,7,8월이 존재하는가?\n",
    "dfs[dfs.datetime.dt.month.isin([6,7,8])] # dt -> str 역할"
   ]
  },
  {
   "cell_type": "code",
   "execution_count": 54,
   "id": "c0d26a18",
   "metadata": {},
   "outputs": [],
   "source": [
    "# 날짜 -> 문자열\n",
    "# timeSeries.dt.strftime(\"%Y-%m-%d\")"
   ]
  },
  {
   "cell_type": "code",
   "execution_count": 115,
   "id": "eaa5c81e",
   "metadata": {
    "scrolled": true
   },
   "outputs": [
    {
     "name": "stdout",
     "output_type": "stream",
     "text": [
      "<class 'pandas.core.frame.DataFrame'>\n",
      "RangeIndex: 14 entries, 0 to 13\n",
      "Data columns (total 2 columns):\n",
      " #   Column    Non-Null Count  Dtype         \n",
      "---  ------    --------------  -----         \n",
      " 0   datetime  14 non-null     datetime64[ns]\n",
      " 1   purchase  14 non-null     int64         \n",
      "dtypes: datetime64[ns](1), int64(1)\n",
      "memory usage: 352.0 bytes\n"
     ]
    }
   ],
   "source": [
    "df.info()"
   ]
  },
  {
   "cell_type": "code",
   "execution_count": 118,
   "id": "43413187",
   "metadata": {},
   "outputs": [
    {
     "data": {
      "text/plain": [
       "0     06\n",
       "1     07\n",
       "2     07\n",
       "3     07\n",
       "4     01\n",
       "5     07\n",
       "6     07\n",
       "7     06\n",
       "8     05\n",
       "9     07\n",
       "10    07\n",
       "11    07\n",
       "12    07\n",
       "13    07\n",
       "Name: datetime, dtype: object"
      ]
     },
     "execution_count": 118,
     "metadata": {},
     "output_type": "execute_result"
    }
   ],
   "source": [
    "df['datetime'].dt.strftime('%m')"
   ]
  },
  {
   "cell_type": "code",
   "execution_count": 119,
   "id": "793e0e04",
   "metadata": {},
   "outputs": [],
   "source": [
    "df['datetime'] = df['datetime'].dt.strftime(\"%Y-%m-%d\")"
   ]
  },
  {
   "cell_type": "code",
   "execution_count": 128,
   "id": "80288c14",
   "metadata": {
    "scrolled": true
   },
   "outputs": [
    {
     "name": "stdout",
     "output_type": "stream",
     "text": [
      "<class 'pandas.core.frame.DataFrame'>\n",
      "RangeIndex: 14 entries, 0 to 13\n",
      "Data columns (total 2 columns):\n",
      " #   Column    Non-Null Count  Dtype \n",
      "---  ------    --------------  ----- \n",
      " 0   datetime  14 non-null     object\n",
      " 1   purchase  14 non-null     int64 \n",
      "dtypes: int64(1), object(1)\n",
      "memory usage: 352.0+ bytes\n"
     ]
    }
   ],
   "source": [
    "df.info()"
   ]
  },
  {
   "cell_type": "code",
   "execution_count": 121,
   "id": "c2f4ecad",
   "metadata": {},
   "outputs": [],
   "source": [
    "# Map(lambda) 사용"
   ]
  },
  {
   "cell_type": "code",
   "execution_count": 135,
   "id": "850b4171",
   "metadata": {},
   "outputs": [
    {
     "name": "stdout",
     "output_type": "stream",
     "text": [
      "<class 'pandas.core.frame.DataFrame'>\n",
      "RangeIndex: 14 entries, 0 to 13\n",
      "Data columns (total 2 columns):\n",
      " #   Column    Non-Null Count  Dtype         \n",
      "---  ------    --------------  -----         \n",
      " 0   datetime  14 non-null     datetime64[ns]\n",
      " 1   purchase  14 non-null     int64         \n",
      "dtypes: datetime64[ns](1), int64(1)\n",
      "memory usage: 352.0 bytes\n"
     ]
    }
   ],
   "source": [
    "df\n",
    "df['datetime'] = pd.to_datetime(df['datetime'], format = '%Y-%m-%d')\n",
    "df.info()"
   ]
  },
  {
   "cell_type": "code",
   "execution_count": 136,
   "id": "a36b856c",
   "metadata": {},
   "outputs": [
    {
     "name": "stdout",
     "output_type": "stream",
     "text": [
      "<class 'pandas.core.frame.DataFrame'>\n",
      "RangeIndex: 14 entries, 0 to 13\n",
      "Data columns (total 2 columns):\n",
      " #   Column    Non-Null Count  Dtype \n",
      "---  ------    --------------  ----- \n",
      " 0   datetime  14 non-null     object\n",
      " 1   purchase  14 non-null     int64 \n",
      "dtypes: int64(1), object(1)\n",
      "memory usage: 352.0+ bytes\n"
     ]
    }
   ],
   "source": [
    "df['datetime'] = df['datetime'].map(lambda x :x.strftime(\"%Y-%m-%d\"))\n",
    "df.info()"
   ]
  },
  {
   "cell_type": "code",
   "execution_count": 137,
   "id": "f1129d03",
   "metadata": {},
   "outputs": [
    {
     "name": "stdout",
     "output_type": "stream",
     "text": [
      "<class 'pandas.core.frame.DataFrame'>\n",
      "RangeIndex: 14 entries, 0 to 13\n",
      "Data columns (total 2 columns):\n",
      " #   Column    Non-Null Count  Dtype         \n",
      "---  ------    --------------  -----         \n",
      " 0   datetime  14 non-null     datetime64[ns]\n",
      " 1   purchase  14 non-null     int64         \n",
      "dtypes: datetime64[ns](1), int64(1)\n",
      "memory usage: 352.0 bytes\n"
     ]
    }
   ],
   "source": [
    "df['datetime'] = df['datetime'].map(lambda x :datetime.strptime(x, '%Y-%m-%d'))\n",
    "df.info()"
   ]
  },
  {
   "cell_type": "code",
   "execution_count": null,
   "id": "29539735",
   "metadata": {},
   "outputs": [],
   "source": [
    "# 문자열 -> datetime\n",
    "# pd.to_datetime('series_data', format = '')\n",
    "# datetime -> 문자열\n",
    "# 'series_datetime'.dt.strftime('%Y%m')"
   ]
  }
 ],
 "metadata": {
  "kernelspec": {
   "display_name": "Python 3 (ipykernel)",
   "language": "python",
   "name": "python3"
  },
  "language_info": {
   "codemirror_mode": {
    "name": "ipython",
    "version": 3
   },
   "file_extension": ".py",
   "mimetype": "text/x-python",
   "name": "python",
   "nbconvert_exporter": "python",
   "pygments_lexer": "ipython3",
   "version": "3.9.12"
  }
 },
 "nbformat": 4,
 "nbformat_minor": 5
}
