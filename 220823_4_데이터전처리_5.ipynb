{
 "cells": [
  {
   "cell_type": "code",
   "execution_count": 1,
   "id": "d74eb1fb",
   "metadata": {},
   "outputs": [],
   "source": [
    "# 변수 축소\n",
    "# 주성분분석 : 변수 10개 -> 10개의 주성분 -> 주성분 2개만 사용해도 95% 분산을 설명\n",
    "# 주성분분석 전 표준화 혹은 정규화 진행 : 스케일 차이가 큰 변수가 주성분에 영향\n",
    "# 주성분의 설명력 확인가능\n",
    "# > StandardScaler(), sklearn.PCA.explained_variance_ratio를 통해서 또는 Scree plot을 통해서\n",
    "# PCA함수는 공분산행렬의 고유벡터를 구하는 방법을 사용한다. + 선형대수\n",
    "# 왜 PCA함수를 사용하는지, 왜 차원을 줄이는지 설명 필요"
   ]
  },
  {
   "cell_type": "code",
   "execution_count": 2,
   "id": "2b2d9d8b",
   "metadata": {},
   "outputs": [],
   "source": [
    "# 차원의 저주 \n",
    "# 차원을 이동시키면 어떤 축은 설명력이 적어진다. \n",
    "# 축을 이동시켜, 설명력을 최대로하는 축을 찾는다.\n",
    "# 요인회전 : x-y-z -> y,z -> x,y,z가 고유벡터 값을 보유\n",
    "# 모든 데이터를 분산이 적도록 특정 축으로 이동 \n",
    "# -> 분산을 설명할 수 있는 공간이 줄어들고\n",
    "# -> 분산을 얼마나 잘 설명할 수 있는지 파악가능 \n",
    "\n",
    "# 결국 차원이 커짐으로써 빈 공간이 늘어나며, 분산을 설명하기 어려우며,\n",
    "# 공간을 줄이는 것이 차원 축소의 이유\n",
    "# 1/10 -> 5/100 -> 5/1000\n",
    "\n",
    "# 데이터 용량이 커질수록 불필요한 샘플 증가 현상이 일어남\n",
    "# 과도한 정보를 훈련시키면 부정확하고 잘못된 모델이 탄생할 가능성이 증가함.\n",
    "# -> 차원 축소로 해결"
   ]
  },
  {
   "cell_type": "code",
   "execution_count": 3,
   "id": "2d7c8fc0",
   "metadata": {},
   "outputs": [],
   "source": [
    "import pandas as pd"
   ]
  },
  {
   "cell_type": "code",
   "execution_count": 4,
   "id": "48d37be4",
   "metadata": {},
   "outputs": [],
   "source": [
    "iris = pd.read_csv('data/iris.csv')"
   ]
  },
  {
   "cell_type": "code",
   "execution_count": 7,
   "id": "37c4a94f",
   "metadata": {},
   "outputs": [],
   "source": [
    "# 수치형 데이터만 추출\n",
    "features = ['sepal length', 'sepal width', 'petal length', 'petal width']\n",
    "x = iris.loc[:, features].values"
   ]
  },
  {
   "cell_type": "code",
   "execution_count": 9,
   "id": "b374380c",
   "metadata": {},
   "outputs": [],
   "source": [
    "# 수치형 변수 정규화\n",
    "from sklearn.preprocessing import StandardScaler\n",
    "x = StandardScaler().fit_transform(x)"
   ]
  },
  {
   "cell_type": "code",
   "execution_count": 12,
   "id": "bf03f550",
   "metadata": {},
   "outputs": [],
   "source": [
    "from sklearn.decomposition import PCA\n",
    "# Scree Plot으로 주성분 개수를 정하는 방법\n",
    "pca = PCA(n_components = 4) # 처음에는 features 개수만큼\n",
    "pca_fit = pca.fit(x)"
   ]
  },
  {
   "cell_type": "code",
   "execution_count": 14,
   "id": "305bb5ab",
   "metadata": {},
   "outputs": [
    {
     "data": {
      "text/plain": [
       "array([0.72770452, 0.23030523, 0.03683832, 0.00515193])"
      ]
     },
     "execution_count": 14,
     "metadata": {},
     "output_type": "execute_result"
    }
   ],
   "source": [
    "pca_fit.explained_variance_ratio_ # 분산설명력 비율"
   ]
  },
  {
   "cell_type": "code",
   "execution_count": 15,
   "id": "72605cce",
   "metadata": {},
   "outputs": [
    {
     "name": "stdout",
     "output_type": "stream",
     "text": [
      "고유값 :  [20.89551896 11.75513248  4.7013819   1.75816839]\n",
      "분산설명력 :  [0.72770452 0.23030523 0.03683832 0.00515193]\n"
     ]
    }
   ],
   "source": [
    "print(\"고유값 : \", pca.singular_values_) # 벡터(축)\n",
    "print(\"분산설명력 : \", pca.explained_variance_ratio_)\n",
    "\n",
    "# 아래 PCA1이 72% 설명력\n",
    "# PCA1 + PCA2 95% 설명력 -> 4차원을 2차원으로\n",
    "# 각 차원에는 4개의 변수들이 들어가 있다.  "
   ]
  },
  {
   "cell_type": "code",
   "execution_count": 16,
   "id": "e3ad62c5",
   "metadata": {},
   "outputs": [
    {
     "data": {
      "text/plain": [
       "[<matplotlib.lines.Line2D at 0x233d5638910>]"
      ]
     },
     "execution_count": 16,
     "metadata": {},
     "output_type": "execute_result"
    },
    {
     "data": {
      "image/png": "[encoded data removed]",
      "text/plain": [
       "<Figure size 432x288 with 1 Axes>"
      ]
     },
     "metadata": {
      "needs_background": "light"
     },
     "output_type": "display_data"
    }
   ],
   "source": [
    "# Scree Plot\n",
    "import matplotlib.pyplot as pit\n",
    "pit.title('Scree Plot')\n",
    "pit.xlabel('Number of Componets')\n",
    "pit.ylabel('Cumulative Expained Variance')\n",
    "pit.plot(pca.explained_variance_ratio_, 'o-')"
   ]
  },
  {
   "cell_type": "code",
   "execution_count": 19,
   "id": "94a78a75",
   "metadata": {},
   "outputs": [
    {
     "data": {
      "text/plain": [
       "array([0.72770452, 0.23030523])"
      ]
     },
     "execution_count": 19,
     "metadata": {},
     "output_type": "execute_result"
    }
   ],
   "source": [
    "pca = PCA(n_components = 2 ) # PCA 객체 생성(주성분 개수 2개 생성)\n",
    "principalComponents = pca.fit_transform(x) ## 주성분 2개 객체에 할당\n",
    "principalDf = pd.DataFrame(data = principalComponents, columns = ['principal component1', 'principal component2'])\n",
    "pca.explained_variance_ratio_"
   ]
  },
  {
   "cell_type": "code",
   "execution_count": 20,
   "id": "1aa6a572",
   "metadata": {},
   "outputs": [
    {
     "data": {
      "text/html": [
       "<div>\n",
       "<style scoped>\n",
       "    .dataframe tbody tr th:only-of-type {\n",
       "        vertical-align: middle;\n",
       "    }\n",
       "\n",
       "    .dataframe tbody tr th {\n",
       "        vertical-align: top;\n",
       "    }\n",
       "\n",
       "    .dataframe thead th {\n",
       "        text-align: right;\n",
       "    }\n",
       "</style>\n",
       "<table border=\"1\" class=\"dataframe\">\n",
       "  <thead>\n",
       "    <tr style=\"text-align: right;\">\n",
       "      <th></th>\n",
       "      <th>principal component1</th>\n",
       "      <th>principal component2</th>\n",
       "    </tr>\n",
       "  </thead>\n",
       "  <tbody>\n",
       "    <tr>\n",
       "      <th>0</th>\n",
       "      <td>-2.264542</td>\n",
       "      <td>0.505704</td>\n",
       "    </tr>\n",
       "    <tr>\n",
       "      <th>1</th>\n",
       "      <td>-2.086426</td>\n",
       "      <td>-0.655405</td>\n",
       "    </tr>\n",
       "    <tr>\n",
       "      <th>2</th>\n",
       "      <td>-2.367950</td>\n",
       "      <td>-0.318477</td>\n",
       "    </tr>\n",
       "    <tr>\n",
       "      <th>3</th>\n",
       "      <td>-2.304197</td>\n",
       "      <td>-0.575368</td>\n",
       "    </tr>\n",
       "    <tr>\n",
       "      <th>4</th>\n",
       "      <td>-2.388777</td>\n",
       "      <td>0.674767</td>\n",
       "    </tr>\n",
       "    <tr>\n",
       "      <th>...</th>\n",
       "      <td>...</td>\n",
       "      <td>...</td>\n",
       "    </tr>\n",
       "    <tr>\n",
       "      <th>145</th>\n",
       "      <td>1.870522</td>\n",
       "      <td>0.382822</td>\n",
       "    </tr>\n",
       "    <tr>\n",
       "      <th>146</th>\n",
       "      <td>1.558492</td>\n",
       "      <td>-0.905314</td>\n",
       "    </tr>\n",
       "    <tr>\n",
       "      <th>147</th>\n",
       "      <td>1.520845</td>\n",
       "      <td>0.266795</td>\n",
       "    </tr>\n",
       "    <tr>\n",
       "      <th>148</th>\n",
       "      <td>1.376391</td>\n",
       "      <td>1.016362</td>\n",
       "    </tr>\n",
       "    <tr>\n",
       "      <th>149</th>\n",
       "      <td>0.959299</td>\n",
       "      <td>-0.022284</td>\n",
       "    </tr>\n",
       "  </tbody>\n",
       "</table>\n",
       "<p>150 rows × 2 columns</p>\n",
       "</div>"
      ],
      "text/plain": [
       "     principal component1  principal component2\n",
       "0               -2.264542              0.505704\n",
       "1               -2.086426             -0.655405\n",
       "2               -2.367950             -0.318477\n",
       "3               -2.304197             -0.575368\n",
       "4               -2.388777              0.674767\n",
       "..                    ...                   ...\n",
       "145              1.870522              0.382822\n",
       "146              1.558492             -0.905314\n",
       "147              1.520845              0.266795\n",
       "148              1.376391              1.016362\n",
       "149              0.959299             -0.022284\n",
       "\n",
       "[150 rows x 2 columns]"
      ]
     },
     "execution_count": 20,
     "metadata": {},
     "output_type": "execute_result"
    }
   ],
   "source": [
    "principalDf\n",
    "# PCA 단점 : PCA1이 4개의 변수를 얼마만큼 가지고 있는지 파악하기 어려움"
   ]
  },
  {
   "cell_type": "code",
   "execution_count": 22,
   "id": "6f7e9f40",
   "metadata": {},
   "outputs": [
    {
     "name": "stderr",
     "output_type": "stream",
     "text": [
      "No artists with labels found to put in legend.  Note that artists whose label start with an underscore are ignored when legend() is called with no argument.\n"
     ]
    },
    {
     "data": {
      "image/png": "[encoded data removed]",
      "text/plain": [
       "<Figure size 576x576 with 1 Axes>"
      ]
     },
     "metadata": {
      "needs_background": "light"
     },
     "output_type": "display_data"
    }
   ],
   "source": [
    "import matplotlib.pyplot as plt\n",
    "\n",
    "fig = plt.figure(figsize = (8, 8))\n",
    "ax = fig.add_subplot(1, 1, 1)\n",
    "ax.set_xlabel('Principal Component 1', fontsize = 15)\n",
    "ax.set_ylabel('Principal Component 2', fontsize = 15)\n",
    "ax.set_title('2 component PCA', fontsize=20)\n",
    "\n",
    "targets = ['Iris-setosa', 'Iris-versicolor', 'Iris-virginica']\n",
    "colors = ['r', 'g', 'b']\n",
    "for target, color in zip(targets,colors):\n",
    "    indicesToKeep = iris['target'] == target\n",
    "    ax.scatter(principalDf.loc[indicesToKeep, 'principal component1']\n",
    "               , principalDf.loc[indicesToKeep, 'principal component2']\n",
    "               , c = color\n",
    "               , s = 50)\n",
    "ax.legend()\n",
    "ax.grid()"
   ]
  },
  {
   "cell_type": "code",
   "execution_count": null,
   "id": "c0810498",
   "metadata": {},
   "outputs": [],
   "source": []
  },
  {
   "cell_type": "code",
   "execution_count": null,
   "id": "e37d8d23",
   "metadata": {},
   "outputs": [],
   "source": []
  },
  {
   "cell_type": "code",
   "execution_count": null,
   "id": "5693fa7b",
   "metadata": {},
   "outputs": [],
   "source": []
  },
  {
   "cell_type": "code",
   "execution_count": null,
   "id": "6438bf8a",
   "metadata": {},
   "outputs": [],
   "source": []
  },
  {
   "cell_type": "code",
   "execution_count": null,
   "id": "93fad905",
   "metadata": {},
   "outputs": [],
   "source": []
  },
  {
   "cell_type": "code",
   "execution_count": null,
   "id": "f678e554",
   "metadata": {},
   "outputs": [],
   "source": []
  },
  {
   "cell_type": "code",
   "execution_count": null,
   "id": "1ef40c93",
   "metadata": {},
   "outputs": [],
   "source": []
  },
  {
   "cell_type": "code",
   "execution_count": null,
   "id": "3e17e9f6",
   "metadata": {},
   "outputs": [],
   "source": []
  },
  {
   "cell_type": "code",
   "execution_count": null,
   "id": "43cf1b25",
   "metadata": {},
   "outputs": [],
   "source": []
  },
  {
   "cell_type": "code",
   "execution_count": null,
   "id": "51e81158",
   "metadata": {},
   "outputs": [],
   "source": []
  }
 ],
 "metadata": {
  "kernelspec": {
   "display_name": "Python 3 (ipykernel)",
   "language": "python",
   "name": "python3"
  },
  "language_info": {
   "codemirror_mode": {
    "name": "ipython",
    "version": 3
   },
   "file_extension": ".py",
   "mimetype": "text/x-python",
   "name": "python",
   "nbconvert_exporter": "python",
   "pygments_lexer": "ipython3",
   "version": "3.9.12"
  }
 },
 "nbformat": 4,
 "nbformat_minor": 5
}
